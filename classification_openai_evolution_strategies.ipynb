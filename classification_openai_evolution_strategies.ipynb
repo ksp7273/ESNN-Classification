{
  "nbformat": 4,
  "nbformat_minor": 0,
  "metadata": {
    "colab": {
      "provenance": [],
      "include_colab_link": true
    },
    "kernelspec": {
      "name": "python3",
      "display_name": "Python 3"
    },
    "language_info": {
      "name": "python"
    },
    "widgets": {
      "application/vnd.jupyter.widget-state+json": {
        "d14cd54b5a694eab9db1216563029d9d": {
          "model_module": "@jupyter-widgets/controls",
          "model_name": "HBoxModel",
          "model_module_version": "1.5.0",
          "state": {
            "_dom_classes": [],
            "_model_module": "@jupyter-widgets/controls",
            "_model_module_version": "1.5.0",
            "_model_name": "HBoxModel",
            "_view_count": null,
            "_view_module": "@jupyter-widgets/controls",
            "_view_module_version": "1.5.0",
            "_view_name": "HBoxView",
            "box_style": "",
            "children": [
              "IPY_MODEL_b3a8ceeab49942f3af1b60449b459d2c",
              "IPY_MODEL_f615c5e9510c42679098448e01b8495f",
              "IPY_MODEL_6304818392a041259fe39b475da4c8e2"
            ],
            "layout": "IPY_MODEL_ae9e21acb8704bfd9cd81abf6639b25f"
          }
        },
        "b3a8ceeab49942f3af1b60449b459d2c": {
          "model_module": "@jupyter-widgets/controls",
          "model_name": "HTMLModel",
          "model_module_version": "1.5.0",
          "state": {
            "_dom_classes": [],
            "_model_module": "@jupyter-widgets/controls",
            "_model_module_version": "1.5.0",
            "_model_name": "HTMLModel",
            "_view_count": null,
            "_view_module": "@jupyter-widgets/controls",
            "_view_module_version": "1.5.0",
            "_view_name": "HTMLView",
            "description": "",
            "description_tooltip": null,
            "layout": "IPY_MODEL_62f707c7d8da45bf86f22f578ce90f75",
            "placeholder": "​",
            "style": "IPY_MODEL_bf0d988e0ed9409d9f384178954f7a48",
            "value": "100%"
          }
        },
        "f615c5e9510c42679098448e01b8495f": {
          "model_module": "@jupyter-widgets/controls",
          "model_name": "FloatProgressModel",
          "model_module_version": "1.5.0",
          "state": {
            "_dom_classes": [],
            "_model_module": "@jupyter-widgets/controls",
            "_model_module_version": "1.5.0",
            "_model_name": "FloatProgressModel",
            "_view_count": null,
            "_view_module": "@jupyter-widgets/controls",
            "_view_module_version": "1.5.0",
            "_view_name": "ProgressView",
            "bar_style": "success",
            "description": "",
            "description_tooltip": null,
            "layout": "IPY_MODEL_1f96812228254e15829fee9d0da89036",
            "max": 500,
            "min": 0,
            "orientation": "horizontal",
            "style": "IPY_MODEL_0834c720f3a44a8f85032f3a363eaf52",
            "value": 500
          }
        },
        "6304818392a041259fe39b475da4c8e2": {
          "model_module": "@jupyter-widgets/controls",
          "model_name": "HTMLModel",
          "model_module_version": "1.5.0",
          "state": {
            "_dom_classes": [],
            "_model_module": "@jupyter-widgets/controls",
            "_model_module_version": "1.5.0",
            "_model_name": "HTMLModel",
            "_view_count": null,
            "_view_module": "@jupyter-widgets/controls",
            "_view_module_version": "1.5.0",
            "_view_name": "HTMLView",
            "description": "",
            "description_tooltip": null,
            "layout": "IPY_MODEL_438d64fc3f21484eadeb82121041d590",
            "placeholder": "​",
            "style": "IPY_MODEL_5b8701da065e4cd49b73d7d3ebe704a9",
            "value": " 500/500 [00:10&lt;00:00, 46.55it/s]"
          }
        },
        "ae9e21acb8704bfd9cd81abf6639b25f": {
          "model_module": "@jupyter-widgets/base",
          "model_name": "LayoutModel",
          "model_module_version": "1.2.0",
          "state": {
            "_model_module": "@jupyter-widgets/base",
            "_model_module_version": "1.2.0",
            "_model_name": "LayoutModel",
            "_view_count": null,
            "_view_module": "@jupyter-widgets/base",
            "_view_module_version": "1.2.0",
            "_view_name": "LayoutView",
            "align_content": null,
            "align_items": null,
            "align_self": null,
            "border": null,
            "bottom": null,
            "display": null,
            "flex": null,
            "flex_flow": null,
            "grid_area": null,
            "grid_auto_columns": null,
            "grid_auto_flow": null,
            "grid_auto_rows": null,
            "grid_column": null,
            "grid_gap": null,
            "grid_row": null,
            "grid_template_areas": null,
            "grid_template_columns": null,
            "grid_template_rows": null,
            "height": null,
            "justify_content": null,
            "justify_items": null,
            "left": null,
            "margin": null,
            "max_height": null,
            "max_width": null,
            "min_height": null,
            "min_width": null,
            "object_fit": null,
            "object_position": null,
            "order": null,
            "overflow": null,
            "overflow_x": null,
            "overflow_y": null,
            "padding": null,
            "right": null,
            "top": null,
            "visibility": null,
            "width": null
          }
        },
        "62f707c7d8da45bf86f22f578ce90f75": {
          "model_module": "@jupyter-widgets/base",
          "model_name": "LayoutModel",
          "model_module_version": "1.2.0",
          "state": {
            "_model_module": "@jupyter-widgets/base",
            "_model_module_version": "1.2.0",
            "_model_name": "LayoutModel",
            "_view_count": null,
            "_view_module": "@jupyter-widgets/base",
            "_view_module_version": "1.2.0",
            "_view_name": "LayoutView",
            "align_content": null,
            "align_items": null,
            "align_self": null,
            "border": null,
            "bottom": null,
            "display": null,
            "flex": null,
            "flex_flow": null,
            "grid_area": null,
            "grid_auto_columns": null,
            "grid_auto_flow": null,
            "grid_auto_rows": null,
            "grid_column": null,
            "grid_gap": null,
            "grid_row": null,
            "grid_template_areas": null,
            "grid_template_columns": null,
            "grid_template_rows": null,
            "height": null,
            "justify_content": null,
            "justify_items": null,
            "left": null,
            "margin": null,
            "max_height": null,
            "max_width": null,
            "min_height": null,
            "min_width": null,
            "object_fit": null,
            "object_position": null,
            "order": null,
            "overflow": null,
            "overflow_x": null,
            "overflow_y": null,
            "padding": null,
            "right": null,
            "top": null,
            "visibility": null,
            "width": null
          }
        },
        "bf0d988e0ed9409d9f384178954f7a48": {
          "model_module": "@jupyter-widgets/controls",
          "model_name": "DescriptionStyleModel",
          "model_module_version": "1.5.0",
          "state": {
            "_model_module": "@jupyter-widgets/controls",
            "_model_module_version": "1.5.0",
            "_model_name": "DescriptionStyleModel",
            "_view_count": null,
            "_view_module": "@jupyter-widgets/base",
            "_view_module_version": "1.2.0",
            "_view_name": "StyleView",
            "description_width": ""
          }
        },
        "1f96812228254e15829fee9d0da89036": {
          "model_module": "@jupyter-widgets/base",
          "model_name": "LayoutModel",
          "model_module_version": "1.2.0",
          "state": {
            "_model_module": "@jupyter-widgets/base",
            "_model_module_version": "1.2.0",
            "_model_name": "LayoutModel",
            "_view_count": null,
            "_view_module": "@jupyter-widgets/base",
            "_view_module_version": "1.2.0",
            "_view_name": "LayoutView",
            "align_content": null,
            "align_items": null,
            "align_self": null,
            "border": null,
            "bottom": null,
            "display": null,
            "flex": null,
            "flex_flow": null,
            "grid_area": null,
            "grid_auto_columns": null,
            "grid_auto_flow": null,
            "grid_auto_rows": null,
            "grid_column": null,
            "grid_gap": null,
            "grid_row": null,
            "grid_template_areas": null,
            "grid_template_columns": null,
            "grid_template_rows": null,
            "height": null,
            "justify_content": null,
            "justify_items": null,
            "left": null,
            "margin": null,
            "max_height": null,
            "max_width": null,
            "min_height": null,
            "min_width": null,
            "object_fit": null,
            "object_position": null,
            "order": null,
            "overflow": null,
            "overflow_x": null,
            "overflow_y": null,
            "padding": null,
            "right": null,
            "top": null,
            "visibility": null,
            "width": null
          }
        },
        "0834c720f3a44a8f85032f3a363eaf52": {
          "model_module": "@jupyter-widgets/controls",
          "model_name": "ProgressStyleModel",
          "model_module_version": "1.5.0",
          "state": {
            "_model_module": "@jupyter-widgets/controls",
            "_model_module_version": "1.5.0",
            "_model_name": "ProgressStyleModel",
            "_view_count": null,
            "_view_module": "@jupyter-widgets/base",
            "_view_module_version": "1.2.0",
            "_view_name": "StyleView",
            "bar_color": null,
            "description_width": ""
          }
        },
        "438d64fc3f21484eadeb82121041d590": {
          "model_module": "@jupyter-widgets/base",
          "model_name": "LayoutModel",
          "model_module_version": "1.2.0",
          "state": {
            "_model_module": "@jupyter-widgets/base",
            "_model_module_version": "1.2.0",
            "_model_name": "LayoutModel",
            "_view_count": null,
            "_view_module": "@jupyter-widgets/base",
            "_view_module_version": "1.2.0",
            "_view_name": "LayoutView",
            "align_content": null,
            "align_items": null,
            "align_self": null,
            "border": null,
            "bottom": null,
            "display": null,
            "flex": null,
            "flex_flow": null,
            "grid_area": null,
            "grid_auto_columns": null,
            "grid_auto_flow": null,
            "grid_auto_rows": null,
            "grid_column": null,
            "grid_gap": null,
            "grid_row": null,
            "grid_template_areas": null,
            "grid_template_columns": null,
            "grid_template_rows": null,
            "height": null,
            "justify_content": null,
            "justify_items": null,
            "left": null,
            "margin": null,
            "max_height": null,
            "max_width": null,
            "min_height": null,
            "min_width": null,
            "object_fit": null,
            "object_position": null,
            "order": null,
            "overflow": null,
            "overflow_x": null,
            "overflow_y": null,
            "padding": null,
            "right": null,
            "top": null,
            "visibility": null,
            "width": null
          }
        },
        "5b8701da065e4cd49b73d7d3ebe704a9": {
          "model_module": "@jupyter-widgets/controls",
          "model_name": "DescriptionStyleModel",
          "model_module_version": "1.5.0",
          "state": {
            "_model_module": "@jupyter-widgets/controls",
            "_model_module_version": "1.5.0",
            "_model_name": "DescriptionStyleModel",
            "_view_count": null,
            "_view_module": "@jupyter-widgets/base",
            "_view_module_version": "1.2.0",
            "_view_name": "StyleView",
            "description_width": ""
          }
        }
      }
    }
  },
  "cells": [
    {
      "cell_type": "markdown",
      "metadata": {
        "id": "view-in-github",
        "colab_type": "text"
      },
      "source": [
        "<a href=\"https://colab.research.google.com/github/ksp7273/ESNN-Classification/blob/main/classification_openai_evolution_strategies.ipynb\" target=\"_parent\"><img src=\"https://colab.research.google.com/assets/colab-badge.svg\" alt=\"Open In Colab\"/></a>"
      ]
    },
    {
      "cell_type": "markdown",
      "metadata": {
        "id": "K27WNAdomZTX"
      },
      "source": [
        "# Using Evolution Strategies to train neural networks\n",
        "\n",
        "We will implement evolution strategies to train a neural network that will classify a dataset.\n",
        "\n",
        "Our algorithm is based off this blog post from OpenAI:\n",
        "https://openai.com/blog/evolution-strategies/"
      ]
    },
    {
      "cell_type": "code",
      "metadata": {
        "id": "Qs1G9Y7wmWPG"
      },
      "source": [
        "import torch\n",
        "import torch.nn as nn\n",
        "from torch.nn import functional as F"
      ],
      "execution_count": 1,
      "outputs": []
    },
    {
      "cell_type": "code",
      "source": [
        "import numpy as np\n",
        "import matplotlib.pyplot as plt"
      ],
      "metadata": {
        "id": "mOaR1zzrY-Lo"
      },
      "execution_count": 2,
      "outputs": []
    },
    {
      "cell_type": "code",
      "source": [
        "from sklearn.datasets import make_moons"
      ],
      "metadata": {
        "id": "E2NlmuqpZBF5"
      },
      "execution_count": 3,
      "outputs": []
    },
    {
      "cell_type": "code",
      "source": [
        "X, Y = make_moons(noise=0.15, random_state=1, n_samples=500)"
      ],
      "metadata": {
        "id": "dybOzunNZC6O"
      },
      "execution_count": 4,
      "outputs": []
    },
    {
      "cell_type": "code",
      "source": [
        "plt.scatter(X[:,0], X[:,1], c=Y)"
      ],
      "metadata": {
        "colab": {
          "base_uri": "https://localhost:8080/",
          "height": 282
        },
        "id": "xu-TsLixZHLY",
        "outputId": "e221a4a0-1c91-42ae-a6b7-a45e144947fd"
      },
      "execution_count": 5,
      "outputs": [
        {
          "output_type": "execute_result",
          "data": {
            "text/plain": [
              "<matplotlib.collections.PathCollection at 0x7f552b7b4550>"
            ]
          },
          "metadata": {},
          "execution_count": 5
        },
        {
          "output_type": "display_data",
          "data": {
            "text/plain": [
              "<Figure size 432x288 with 1 Axes>"
            ],
            "image/png": "[encoded data removed]"
          },
          "metadata": {
            "needs_background": "light"
          }
        }
      ]
    },
    {
      "cell_type": "code",
      "source": [
        "from sklearn.model_selection import train_test_split"
      ],
      "metadata": {
        "id": "askOlkCWZLn2"
      },
      "execution_count": 6,
      "outputs": []
    },
    {
      "cell_type": "code",
      "source": [
        "X_train, X_test, y_train, y_test = train_test_split(X, Y, test_size=0.34, random_state = 42)\n",
        "X_train, X_test, y_train, y_test = torch.FloatTensor(X_train), torch.FloatTensor(X_test), torch.LongTensor(y_train), torch.LongTensor(y_test)"
      ],
      "metadata": {
        "id": "WwkZcdHPZO1j"
      },
      "execution_count": 7,
      "outputs": []
    },
    {
      "cell_type": "code",
      "source": [
        "n_input_dim = X_train.shape[-1]\n",
        "n_input_dim # should be 2"
      ],
      "metadata": {
        "colab": {
          "base_uri": "https://localhost:8080/"
        },
        "id": "tKEYBph9ZaWR",
        "outputId": "b79112c6-4d64-4953-922b-1d966808a6ef"
      },
      "execution_count": 8,
      "outputs": [
        {
          "output_type": "execute_result",
          "data": {
            "text/plain": [
              "2"
            ]
          },
          "metadata": {},
          "execution_count": 8
        }
      ]
    },
    {
      "cell_type": "code",
      "source": [
        "def weights_init(m):\n",
        "  classname = m.__class__.__name__\n",
        "  if classname.find('Linear') != -1:\n",
        "    m.weight.data.normal_(0.0, 0.02)"
      ],
      "metadata": {
        "id": "SYU09PS-Zp5I"
      },
      "execution_count": 9,
      "outputs": []
    },
    {
      "cell_type": "code",
      "source": [
        "model = nn.Sequential(\n",
        "    nn.Linear(n_input_dim, 40),\n",
        "    nn.ReLU(),\n",
        "    nn.Linear(40, 20),\n",
        "    nn.ReLU(),\n",
        "    nn.Linear(20, 2),\n",
        "    nn.Sigmoid()\n",
        ")\n",
        "model = model.float()\n",
        "model.apply(weights_init)"
      ],
      "metadata": {
        "colab": {
          "base_uri": "https://localhost:8080/"
        },
        "id": "0Aur5fruZgFv",
        "outputId": "71f36f80-24f7-4636-9b0a-1c44813641ad"
      },
      "execution_count": 10,
      "outputs": [
        {
          "output_type": "execute_result",
          "data": {
            "text/plain": [
              "Sequential(\n",
              "  (0): Linear(in_features=2, out_features=40, bias=True)\n",
              "  (1): ReLU()\n",
              "  (2): Linear(in_features=40, out_features=20, bias=True)\n",
              "  (3): ReLU()\n",
              "  (4): Linear(in_features=20, out_features=2, bias=True)\n",
              "  (5): Sigmoid()\n",
              ")"
            ]
          },
          "metadata": {},
          "execution_count": 10
        }
      ]
    },
    {
      "cell_type": "code",
      "source": [
        "_ = model(X_train) # make sure it works"
      ],
      "metadata": {
        "id": "P5kU4A6zZyip"
      },
      "execution_count": 11,
      "outputs": []
    },
    {
      "cell_type": "code",
      "source": [
        "# now, implementing the training algorithm\n",
        "mother_parameters = model.parameters()\n",
        "mother_vector = nn.utils.parameters_to_vector(mother_parameters)\n",
        "mother_vector.shape"
      ],
      "metadata": {
        "colab": {
          "base_uri": "https://localhost:8080/"
        },
        "id": "muobb5ERZ0_S",
        "outputId": "3d84168c-c085-42fb-dda7-911f1b69fe21"
      },
      "execution_count": 12,
      "outputs": [
        {
          "output_type": "execute_result",
          "data": {
            "text/plain": [
              "torch.Size([982])"
            ]
          },
          "metadata": {},
          "execution_count": 12
        }
      ]
    },
    {
      "cell_type": "code",
      "source": [
        "# Fitness function\n",
        "loss_func = nn.CrossEntropyLoss()\n",
        "def loss(y_pred, y_true):\n",
        "  return 1/loss_func(y_pred, y_true) # we are maximizing the loss in ES, so take the reciprocal\n",
        "  # now, increasing loss means the model is learning"
      ],
      "metadata": {
        "id": "Xa_Pv_J2Z8du"
      },
      "execution_count": 13,
      "outputs": []
    },
    {
      "cell_type": "code",
      "source": [
        "def fitness_func(solution):\n",
        "  # solution is a vector of paramters like mother_parametrs\n",
        "  nn.utils.vector_to_parameters(solution, model.parameters())\n",
        "  return loss(model(X_train), y_train) + 0.00000001"
      ],
      "metadata": {
        "id": "9Sn7NQ8XaJ0S"
      },
      "execution_count": 14,
      "outputs": []
    },
    {
      "cell_type": "code",
      "source": [
        "# in ES, our population is a slightly altered version of the mother parameters, so we implement a jitter function\n",
        "def jitter(mother_params, state_dict):\n",
        "  params_try = mother_params + SIGMA*state_dict # we will intiialize SIGMA later\n",
        "  return params_try"
      ],
      "metadata": {
        "id": "F2XXEZjtaWWg"
      },
      "execution_count": 15,
      "outputs": []
    },
    {
      "cell_type": "code",
      "source": [
        "# now, we calculate the fitness of entire population\n",
        "def calculate_population_fitness(pop, mother_vector):\n",
        "  fitness = torch.zeros(pop.shape[0])\n",
        "  for i, params in enumerate(pop):\n",
        "    p_try = jitter(mother_vector, params)\n",
        "    fitness[i] = fitness_func(p_try)\n",
        "  return fitness"
      ],
      "metadata": {
        "id": "mZGhB691agQm"
      },
      "execution_count": 16,
      "outputs": []
    },
    {
      "cell_type": "code",
      "source": [
        "def test(mother_params):\n",
        "  nn.utils.vector_to_parameters(mother_params, model.parameters())\n",
        "  return (((torch.max(model(X_test), 1)[1] == y_test).sum())/len(y_test)).item()\n",
        "  # calculates the test accuracy of model"
      ],
      "metadata": {
        "id": "Bhg97OIMas5U"
      },
      "execution_count": 17,
      "outputs": []
    },
    {
      "cell_type": "code",
      "source": [
        "# Now, for the hyperparameters like sigma\n",
        "SIGMA = 0.01\n",
        "LR = 0.001\n",
        "POPULATION_SIZE=50\n",
        "ITERATIONS = 500 # 500 should be more than enough"
      ],
      "metadata": {
        "id": "GRqKPexma_kg"
      },
      "execution_count": 18,
      "outputs": []
    },
    {
      "cell_type": "code",
      "source": [
        "n_params = nn.utils.parameters_to_vector(model.parameters()).shape[0]\n",
        "print(f\"Number of params: {n_params}\")"
      ],
      "metadata": {
        "colab": {
          "base_uri": "https://localhost:8080/"
        },
        "id": "PadBTpI9bGbO",
        "outputId": "f55d1510-34d0-4211-9b72-510bcf957470"
      },
      "execution_count": 19,
      "outputs": [
        {
          "output_type": "stream",
          "name": "stdout",
          "text": [
            "Number of params: 982\n"
          ]
        }
      ]
    },
    {
      "cell_type": "code",
      "source": [
        "from tqdm.notebook import tqdm"
      ],
      "metadata": {
        "id": "FoOAqh9obNLm"
      },
      "execution_count": 20,
      "outputs": []
    },
    {
      "cell_type": "code",
      "source": [
        "# Now, we train the model\n",
        "with torch.no_grad(): #autograd makes it slower + takes more memory. We dont use differnetiation in ES\n",
        "  for iteration in tqdm(range(ITERATIONS)):\n",
        "    pop = torch.from_numpy(np.random.randn(POPULATION_SIZE, n_params)).float()\n",
        "    fitness = calculate_population_fitness(pop, mother_vector)\n",
        "    # normalize the fitness\n",
        "    normalized_fitness = (fitness - torch.mean(fitness)) / torch.std(fitness)\n",
        "    # update mother vector with the fitness values\n",
        "    mother_vector = mother_vector + (LR / (POPULATION_SIZE * SIGMA)) * torch.matmul(pop.t(), normalized_fitness)\n",
        "    if iteration % 50 == 0:\n",
        "      reward = fitness_func(mother_vector)\n",
        "      acc = test(mother_vector)\n",
        "      print(f\"Iteration: {iteration}, Reward:{reward}, Accuracy: {acc * 100}\")"
      ],
      "metadata": {
        "colab": {
          "base_uri": "https://localhost:8080/",
          "height": 223,
          "referenced_widgets": [
            "d14cd54b5a694eab9db1216563029d9d",
            "b3a8ceeab49942f3af1b60449b459d2c",
            "f615c5e9510c42679098448e01b8495f",
            "6304818392a041259fe39b475da4c8e2",
            "ae9e21acb8704bfd9cd81abf6639b25f",
            "62f707c7d8da45bf86f22f578ce90f75",
            "bf0d988e0ed9409d9f384178954f7a48",
            "1f96812228254e15829fee9d0da89036",
            "0834c720f3a44a8f85032f3a363eaf52",
            "438d64fc3f21484eadeb82121041d590",
            "5b8701da065e4cd49b73d7d3ebe704a9"
          ]
        },
        "id": "v9raN4WkbOsh",
        "outputId": "f1dc6f98-ccae-4c4e-cdcd-f7938db202fe"
      },
      "execution_count": 21,
      "outputs": [
        {
          "output_type": "display_data",
          "data": {
            "text/plain": [
              "  0%|          | 0/500 [00:00<?, ?it/s]"
            ],
            "application/vnd.jupyter.widget-view+json": {
              "version_major": 2,
              "version_minor": 0,
              "model_id": "d14cd54b5a694eab9db1216563029d9d"
            }
          },
          "metadata": {}
        },
        {
          "output_type": "stream",
          "name": "stdout",
          "text": [
            "Iteration: 0, Reward:1.4434609413146973, Accuracy: 47.647058963775635\n",
            "Iteration: 50, Reward:2.3504135608673096, Accuracy: 84.70588326454163\n",
            "Iteration: 100, Reward:2.4135947227478027, Accuracy: 88.23529481887817\n",
            "Iteration: 150, Reward:2.495849370956421, Accuracy: 89.99999761581421\n",
            "Iteration: 200, Reward:2.642674207687378, Accuracy: 92.9411768913269\n",
            "Iteration: 250, Reward:2.834954261779785, Accuracy: 97.64705896377563\n",
            "Iteration: 300, Reward:2.9079172611236572, Accuracy: 97.64705896377563\n",
            "Iteration: 350, Reward:2.9673357009887695, Accuracy: 98.23529124259949\n",
            "Iteration: 400, Reward:2.9796526432037354, Accuracy: 98.23529124259949\n",
            "Iteration: 450, Reward:2.980787754058838, Accuracy: 97.64705896377563\n"
          ]
        }
      ]
    },
    {
      "cell_type": "code",
      "source": [
        "# lets test model\n",
        "preds = model(X_test)\n",
        "_, preds_classes = torch.max(preds, 1)"
      ],
      "metadata": {
        "id": "uOeDNbHGcCn_"
      },
      "execution_count": 22,
      "outputs": []
    },
    {
      "cell_type": "code",
      "source": [
        "plt.scatter(X_test[:, 0], X_test[:, 1], c=preds_classes.detach().numpy())"
      ],
      "metadata": {
        "colab": {
          "base_uri": "https://localhost:8080/",
          "height": 282
        },
        "id": "vKWexaOmc7bn",
        "outputId": "d729061e-f323-45cc-86c5-0b90bb7eba61"
      },
      "execution_count": 23,
      "outputs": [
        {
          "output_type": "execute_result",
          "data": {
            "text/plain": [
              "<matplotlib.collections.PathCollection at 0x7f552b0e9be0>"
            ]
          },
          "metadata": {},
          "execution_count": 23
        },
        {
          "output_type": "display_data",
          "data": {
            "text/plain": [
              "<Figure size 432x288 with 1 Axes>"
            ],
            "image/png": "[encoded data removed]"
          },
          "metadata": {
            "needs_background": "light"
          }
        }
      ]
    },
    {
      "cell_type": "code",
      "source": [],
      "metadata": {
        "id": "bc8UuFcsdABu"
      },
      "execution_count": 24,
      "outputs": []
    }
  ]
}